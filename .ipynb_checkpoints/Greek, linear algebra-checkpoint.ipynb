{
 "cells": [
  {
   "cell_type": "markdown",
   "id": "5b29975d",
   "metadata": {},
   "source": [
    "$ \\alpha = \\beta $\n",
    "- 인라인 수식으로 사용"
   ]
  },
  {
   "cell_type": "markdown",
   "id": "cd760699",
   "metadata": {},
   "source": [
    "$$ \\alpha = \\beta $$\n",
    "- 독립된 문단으로 수식 표식"
   ]
  },
  {
   "cell_type": "markdown",
   "id": "69acfb8b",
   "metadata": {},
   "source": [
    "$ \\alpha, \\beta, \\gamma, \\epsilon, \\zeta, \\eta, \\theta, \\lambda, \\mu, \\nu, \\xi, \\pi, \\rho, \\sigma, \\tau, \\phi, \\chi, \\psi,\\omega $"
   ]
  },
  {
   "cell_type": "markdown",
   "id": "0c2abc16",
   "metadata": {},
   "source": [
    "## 2장 넘파이로 공부하는 선형대수\n",
    "- 2.1 데이터와 행렬\n",
    "- 데이터 사이언스 스쿨 (https://datascienceschool.net/02%20mathematics/02.01%20%EB%8D%B0%EC%9D%B4%ED%84%B0%EC%99%80%20%ED%96%89%EB%A0%AC.html)"
   ]
  },
  {
   "cell_type": "code",
   "execution_count": 3,
   "id": "7e2a19e9",
   "metadata": {},
   "outputs": [],
   "source": [
    "# 스칼라는 하나의 숫자로 이루어진 데이터\n",
    "# 벡터는 여러 개의 숫자가 특정한 순서대로 모여 있는 것, 벡터의 차원은 원소의 개수 의미\n",
    "# 스칼라와 벡터는 수학적으로 행렬에 속함, 스칼라는 열과 행의수가 각각 1, 벡터는 열의 수가 1인 행렬"
   ]
  },
  {
   "cell_type": "code",
   "execution_count": 4,
   "id": "a0331dc5",
   "metadata": {},
   "outputs": [],
   "source": [
    "# 넘파이는 선형대수 문제 풀 때 사용하는 패키지\n",
    "# 벡터를 열의 개수가 하나인 2차원 배열 객체로 표현(벡터의 차원과 다른 의미)\n",
    "# 배열은 원소 개수가 몇 개이든 한줄로 나타낼 수 있으면 1차원 배열이라고 함\n",
    "# 원소를 가로와 세로가 있는 여러 줄의 직사각형 형태로 나타낼 수 있으면 2차원 배열이라고 함"
   ]
  },
  {
   "cell_type": "code",
   "execution_count": 6,
   "id": "249f7149",
   "metadata": {},
   "outputs": [
    {
     "data": {
      "text/plain": [
       "array([[5.1],\n",
       "       [3.5],\n",
       "       [1.4],\n",
       "       [0.2]])"
      ]
     },
     "execution_count": 6,
     "metadata": {},
     "output_type": "execute_result"
    }
   ],
   "source": [
    "# 벡터 x1을 넘파이 2차원 배열로 표기\n",
    "\n",
    "import numpy as np\n",
    "\n",
    "x1 = np.array([[5.1], [3.5], [1.4], [0.2]])\n",
    "x1"
   ]
  },
  {
   "cell_type": "code",
   "execution_count": 8,
   "id": "e3c37a95",
   "metadata": {},
   "outputs": [
    {
     "data": {
      "text/plain": [
       "array([5.1, 3.5, 1.4, 0.2])"
      ]
     },
     "execution_count": 8,
     "metadata": {},
     "output_type": "execute_result"
    }
   ],
   "source": [
    "# 넘파이는 1차원 배열 객체도 벡터로 인정, 벡터가 하나의 행처럼 표시되어도 실제로는 열\n",
    "x1 = np.array([5.1, 3.5, 1.4, 0.2])\n",
    "x1"
   ]
  },
  {
   "cell_type": "code",
   "execution_count": 10,
   "id": "944d62d8",
   "metadata": {},
   "outputs": [],
   "source": [
    "# 데이터를 처리하는 프로그램 중 열 표기를 정확히 요구하는 경우, 사이킷런은 반드시 열의 개수가 1개인 2차원 배열 객체를 넣어야 함"
   ]
  },
  {
   "cell_type": "code",
   "execution_count": null,
   "id": "f221e17d",
   "metadata": {},
   "outputs": [],
   "source": [
    "# 예측 문제 입력 데이터는 대부분 벡터로 표시, 숫자 이미지를 입력받아 어떤 숫자인지 분류하는 문제\n",
    "# 이미지는 원래 2차원 데이터, 예측문제에서는 보통 1차원으로 변환하여 사용"
   ]
  },
  {
   "cell_type": "markdown",
   "id": "4b2a96c0",
   "metadata": {},
   "source": [
    "## NIST 숫자 이미지 데이터 셋 \n",
    "- 0부터 9까지의 숫자를 손으로 쓴 후에 8x8 해상도의 이미지로 스캔한 것이다. 다음 코드는 그중 숫자 0과 1의 이미지 8개를 출력"
   ]
  },
  {
   "cell_type": "code",
   "execution_count": 18,
   "id": "6f01e141",
   "metadata": {},
   "outputs": [],
   "source": [
    "from sklearn.datasets import load_digits\n",
    "import matplotlib.pyplot as plt\n",
    "%matplotlib inline\n",
    "# 경고창 표시\n",
    "import warnings\n",
    "warnings.filterwarnings('ignore')"
   ]
  },
  {
   "cell_type": "code",
   "execution_count": 12,
   "id": "677c2d8f",
   "metadata": {},
   "outputs": [
    {
     "data": {
      "text/plain": [
       "{'data': array([[ 0.,  0.,  5., ...,  0.,  0.,  0.],\n",
       "        [ 0.,  0.,  0., ..., 10.,  0.,  0.],\n",
       "        [ 0.,  0.,  0., ..., 16.,  9.,  0.],\n",
       "        ...,\n",
       "        [ 0.,  0.,  1., ...,  6.,  0.,  0.],\n",
       "        [ 0.,  0.,  2., ..., 12.,  0.,  0.],\n",
       "        [ 0.,  0., 10., ..., 12.,  1.,  0.]]),\n",
       " 'target': array([0, 1, 2, ..., 8, 9, 8]),\n",
       " 'frame': None,\n",
       " 'feature_names': ['pixel_0_0',\n",
       "  'pixel_0_1',\n",
       "  'pixel_0_2',\n",
       "  'pixel_0_3',\n",
       "  'pixel_0_4',\n",
       "  'pixel_0_5',\n",
       "  'pixel_0_6',\n",
       "  'pixel_0_7',\n",
       "  'pixel_1_0',\n",
       "  'pixel_1_1',\n",
       "  'pixel_1_2',\n",
       "  'pixel_1_3',\n",
       "  'pixel_1_4',\n",
       "  'pixel_1_5',\n",
       "  'pixel_1_6',\n",
       "  'pixel_1_7',\n",
       "  'pixel_2_0',\n",
       "  'pixel_2_1',\n",
       "  'pixel_2_2',\n",
       "  'pixel_2_3',\n",
       "  'pixel_2_4',\n",
       "  'pixel_2_5',\n",
       "  'pixel_2_6',\n",
       "  'pixel_2_7',\n",
       "  'pixel_3_0',\n",
       "  'pixel_3_1',\n",
       "  'pixel_3_2',\n",
       "  'pixel_3_3',\n",
       "  'pixel_3_4',\n",
       "  'pixel_3_5',\n",
       "  'pixel_3_6',\n",
       "  'pixel_3_7',\n",
       "  'pixel_4_0',\n",
       "  'pixel_4_1',\n",
       "  'pixel_4_2',\n",
       "  'pixel_4_3',\n",
       "  'pixel_4_4',\n",
       "  'pixel_4_5',\n",
       "  'pixel_4_6',\n",
       "  'pixel_4_7',\n",
       "  'pixel_5_0',\n",
       "  'pixel_5_1',\n",
       "  'pixel_5_2',\n",
       "  'pixel_5_3',\n",
       "  'pixel_5_4',\n",
       "  'pixel_5_5',\n",
       "  'pixel_5_6',\n",
       "  'pixel_5_7',\n",
       "  'pixel_6_0',\n",
       "  'pixel_6_1',\n",
       "  'pixel_6_2',\n",
       "  'pixel_6_3',\n",
       "  'pixel_6_4',\n",
       "  'pixel_6_5',\n",
       "  'pixel_6_6',\n",
       "  'pixel_6_7',\n",
       "  'pixel_7_0',\n",
       "  'pixel_7_1',\n",
       "  'pixel_7_2',\n",
       "  'pixel_7_3',\n",
       "  'pixel_7_4',\n",
       "  'pixel_7_5',\n",
       "  'pixel_7_6',\n",
       "  'pixel_7_7'],\n",
       " 'target_names': array([0, 1, 2, 3, 4, 5, 6, 7, 8, 9]),\n",
       " 'images': array([[[ 0.,  0.,  5., ...,  1.,  0.,  0.],\n",
       "         [ 0.,  0., 13., ..., 15.,  5.,  0.],\n",
       "         [ 0.,  3., 15., ..., 11.,  8.,  0.],\n",
       "         ...,\n",
       "         [ 0.,  4., 11., ..., 12.,  7.,  0.],\n",
       "         [ 0.,  2., 14., ..., 12.,  0.,  0.],\n",
       "         [ 0.,  0.,  6., ...,  0.,  0.,  0.]],\n",
       " \n",
       "        [[ 0.,  0.,  0., ...,  5.,  0.,  0.],\n",
       "         [ 0.,  0.,  0., ...,  9.,  0.,  0.],\n",
       "         [ 0.,  0.,  3., ...,  6.,  0.,  0.],\n",
       "         ...,\n",
       "         [ 0.,  0.,  1., ...,  6.,  0.,  0.],\n",
       "         [ 0.,  0.,  1., ...,  6.,  0.,  0.],\n",
       "         [ 0.,  0.,  0., ..., 10.,  0.,  0.]],\n",
       " \n",
       "        [[ 0.,  0.,  0., ..., 12.,  0.,  0.],\n",
       "         [ 0.,  0.,  3., ..., 14.,  0.,  0.],\n",
       "         [ 0.,  0.,  8., ..., 16.,  0.,  0.],\n",
       "         ...,\n",
       "         [ 0.,  9., 16., ...,  0.,  0.,  0.],\n",
       "         [ 0.,  3., 13., ..., 11.,  5.,  0.],\n",
       "         [ 0.,  0.,  0., ..., 16.,  9.,  0.]],\n",
       " \n",
       "        ...,\n",
       " \n",
       "        [[ 0.,  0.,  1., ...,  1.,  0.,  0.],\n",
       "         [ 0.,  0., 13., ...,  2.,  1.,  0.],\n",
       "         [ 0.,  0., 16., ..., 16.,  5.,  0.],\n",
       "         ...,\n",
       "         [ 0.,  0., 16., ..., 15.,  0.,  0.],\n",
       "         [ 0.,  0., 15., ..., 16.,  0.,  0.],\n",
       "         [ 0.,  0.,  2., ...,  6.,  0.,  0.]],\n",
       " \n",
       "        [[ 0.,  0.,  2., ...,  0.,  0.,  0.],\n",
       "         [ 0.,  0., 14., ..., 15.,  1.,  0.],\n",
       "         [ 0.,  4., 16., ..., 16.,  7.,  0.],\n",
       "         ...,\n",
       "         [ 0.,  0.,  0., ..., 16.,  2.,  0.],\n",
       "         [ 0.,  0.,  4., ..., 16.,  2.,  0.],\n",
       "         [ 0.,  0.,  5., ..., 12.,  0.,  0.]],\n",
       " \n",
       "        [[ 0.,  0., 10., ...,  1.,  0.,  0.],\n",
       "         [ 0.,  2., 16., ...,  1.,  0.,  0.],\n",
       "         [ 0.,  0., 15., ..., 15.,  0.,  0.],\n",
       "         ...,\n",
       "         [ 0.,  4., 16., ..., 16.,  6.,  0.],\n",
       "         [ 0.,  8., 16., ..., 16.,  8.,  0.],\n",
       "         [ 0.,  1.,  8., ..., 12.,  1.,  0.]]]),\n",
       " 'DESCR': \".. _digits_dataset:\\n\\nOptical recognition of handwritten digits dataset\\n--------------------------------------------------\\n\\n**Data Set Characteristics:**\\n\\n    :Number of Instances: 1797\\n    :Number of Attributes: 64\\n    :Attribute Information: 8x8 image of integer pixels in the range 0..16.\\n    :Missing Attribute Values: None\\n    :Creator: E. Alpaydin (alpaydin '@' boun.edu.tr)\\n    :Date: July; 1998\\n\\nThis is a copy of the test set of the UCI ML hand-written digits datasets\\nhttps://archive.ics.uci.edu/ml/datasets/Optical+Recognition+of+Handwritten+Digits\\n\\nThe data set contains images of hand-written digits: 10 classes where\\neach class refers to a digit.\\n\\nPreprocessing programs made available by NIST were used to extract\\nnormalized bitmaps of handwritten digits from a preprinted form. From a\\ntotal of 43 people, 30 contributed to the training set and different 13\\nto the test set. 32x32 bitmaps are divided into nonoverlapping blocks of\\n4x4 and the number of on pixels are counted in each block. This generates\\nan input matrix of 8x8 where each element is an integer in the range\\n0..16. This reduces dimensionality and gives invariance to small\\ndistortions.\\n\\nFor info on NIST preprocessing routines, see M. D. Garris, J. L. Blue, G.\\nT. Candela, D. L. Dimmick, J. Geist, P. J. Grother, S. A. Janet, and C.\\nL. Wilson, NIST Form-Based Handprint Recognition System, NISTIR 5469,\\n1994.\\n\\n.. topic:: References\\n\\n  - C. Kaynak (1995) Methods of Combining Multiple Classifiers and Their\\n    Applications to Handwritten Digit Recognition, MSc Thesis, Institute of\\n    Graduate Studies in Science and Engineering, Bogazici University.\\n  - E. Alpaydin, C. Kaynak (1998) Cascading Classifiers, Kybernetika.\\n  - Ken Tang and Ponnuthurai N. Suganthan and Xi Yao and A. Kai Qin.\\n    Linear dimensionalityreduction using relevance weighted LDA. School of\\n    Electrical and Electronic Engineering Nanyang Technological University.\\n    2005.\\n  - Claudio Gentile. A New Approximate Maximal Margin Classification\\n    Algorithm. NIPS. 2000.\\n\"}"
      ]
     },
     "execution_count": 12,
     "metadata": {},
     "output_type": "execute_result"
    }
   ],
   "source": [
    "digits = load_digits()\n",
    "digits\n",
    "# 데이터 로드"
   ]
  },
  {
   "cell_type": "code",
   "execution_count": 13,
   "id": "ca372330",
   "metadata": {},
   "outputs": [
    {
     "data": {
      "text/plain": [
       "[array([[ 0.,  0.,  5., 13.,  9.,  1.,  0.,  0.],\n",
       "        [ 0.,  0., 13., 15., 10., 15.,  5.,  0.],\n",
       "        [ 0.,  3., 15.,  2.,  0., 11.,  8.,  0.],\n",
       "        [ 0.,  4., 12.,  0.,  0.,  8.,  8.,  0.],\n",
       "        [ 0.,  5.,  8.,  0.,  0.,  9.,  8.,  0.],\n",
       "        [ 0.,  4., 11.,  0.,  1., 12.,  7.,  0.],\n",
       "        [ 0.,  2., 14.,  5., 10., 12.,  0.,  0.],\n",
       "        [ 0.,  0.,  6., 13., 10.,  0.,  0.,  0.]]),\n",
       " array([[ 0.,  0.,  1.,  9., 15., 11.,  0.,  0.],\n",
       "        [ 0.,  0., 11., 16.,  8., 14.,  6.,  0.],\n",
       "        [ 0.,  2., 16., 10.,  0.,  9.,  9.,  0.],\n",
       "        [ 0.,  1., 16.,  4.,  0.,  8.,  8.,  0.],\n",
       "        [ 0.,  4., 16.,  4.,  0.,  8.,  8.,  0.],\n",
       "        [ 0.,  1., 16.,  5.,  1., 11.,  3.,  0.],\n",
       "        [ 0.,  0., 12., 12., 10., 10.,  0.,  0.],\n",
       "        [ 0.,  0.,  1., 10., 13.,  3.,  0.,  0.]]),\n",
       " array([[ 0.,  0.,  3., 13., 11.,  7.,  0.,  0.],\n",
       "        [ 0.,  0., 11., 16., 16., 16.,  2.,  0.],\n",
       "        [ 0.,  4., 16.,  9.,  1., 14.,  2.,  0.],\n",
       "        [ 0.,  4., 16.,  0.,  0., 16.,  2.,  0.],\n",
       "        [ 0.,  0., 16.,  1.,  0., 12.,  8.,  0.],\n",
       "        [ 0.,  0., 15.,  9.,  0., 13.,  6.,  0.],\n",
       "        [ 0.,  0.,  9., 14.,  9., 14.,  1.,  0.],\n",
       "        [ 0.,  0.,  2., 12., 13.,  4.,  0.,  0.]]),\n",
       " array([[ 0.,  0., 10., 14., 11.,  3.,  0.,  0.],\n",
       "        [ 0.,  4., 16., 13.,  6., 14.,  1.,  0.],\n",
       "        [ 0.,  4., 16.,  2.,  0., 11.,  7.,  0.],\n",
       "        [ 0.,  8., 16.,  0.,  0., 10.,  5.,  0.],\n",
       "        [ 0.,  8., 16.,  0.,  0., 14.,  4.,  0.],\n",
       "        [ 0.,  8., 16.,  0.,  1., 16.,  1.,  0.],\n",
       "        [ 0.,  4., 16.,  1., 11., 15.,  0.,  0.],\n",
       "        [ 0.,  0., 11., 16., 12.,  3.,  0.,  0.]]),\n",
       " array([[ 0.,  0.,  0., 12., 13.,  5.,  0.,  0.],\n",
       "        [ 0.,  0.,  0., 11., 16.,  9.,  0.,  0.],\n",
       "        [ 0.,  0.,  3., 15., 16.,  6.,  0.,  0.],\n",
       "        [ 0.,  7., 15., 16., 16.,  2.,  0.,  0.],\n",
       "        [ 0.,  0.,  1., 16., 16.,  3.,  0.,  0.],\n",
       "        [ 0.,  0.,  1., 16., 16.,  6.,  0.,  0.],\n",
       "        [ 0.,  0.,  1., 16., 16.,  6.,  0.,  0.],\n",
       "        [ 0.,  0.,  0., 11., 16., 10.,  0.,  0.]]),\n",
       " array([[ 0.,  0.,  0.,  0., 14., 13.,  1.,  0.],\n",
       "        [ 0.,  0.,  0.,  5., 16., 16.,  2.,  0.],\n",
       "        [ 0.,  0.,  0., 14., 16., 12.,  0.,  0.],\n",
       "        [ 0.,  1., 10., 16., 16., 12.,  0.,  0.],\n",
       "        [ 0.,  3., 12., 14., 16.,  9.,  0.,  0.],\n",
       "        [ 0.,  0.,  0.,  5., 16., 15.,  0.,  0.],\n",
       "        [ 0.,  0.,  0.,  4., 16., 14.,  0.,  0.],\n",
       "        [ 0.,  0.,  0.,  1., 13., 16.,  1.,  0.]]),\n",
       " array([[ 0.,  0.,  0.,  2., 16., 16.,  2.,  0.],\n",
       "        [ 0.,  0.,  0.,  4., 16., 16.,  2.,  0.],\n",
       "        [ 0.,  1.,  4., 12., 16., 12.,  0.,  0.],\n",
       "        [ 0.,  7., 16., 16., 16., 12.,  0.,  0.],\n",
       "        [ 0.,  0.,  3., 10., 16., 14.,  0.,  0.],\n",
       "        [ 0.,  0.,  0.,  8., 16., 12.,  0.,  0.],\n",
       "        [ 0.,  0.,  0.,  6., 16., 16.,  2.,  0.],\n",
       "        [ 0.,  0.,  0.,  2., 12., 15.,  4.,  0.]]),\n",
       " array([[ 0.,  0.,  2., 13.,  8.,  0.,  0.,  0.],\n",
       "        [ 0.,  0.,  6., 16., 16.,  6.,  0.,  0.],\n",
       "        [ 0.,  0.,  5., 15., 13., 11.,  0.,  0.],\n",
       "        [ 0.,  0.,  0.,  7., 16., 15.,  0.,  0.],\n",
       "        [ 0.,  0.,  0.,  0.,  0., 14.,  3.,  0.],\n",
       "        [ 0.,  0.,  0.,  0.,  0.,  7., 11.,  0.],\n",
       "        [ 0.,  0.,  0.,  3.,  4.,  4., 16.,  2.],\n",
       "        [ 0.,  0.,  2., 15., 13., 14., 13.,  2.]])]"
      ]
     },
     "execution_count": 13,
     "metadata": {},
     "output_type": "execute_result"
    }
   ],
   "source": [
    "# 선택되는 이미지 번호\n",
    "samples = [0, 10, 20, 30, 1, 11, 21, 31]\n",
    "d = []\n",
    "for i in range(8):\n",
    "    d.append(digits.images[samples[i]])\n",
    "d"
   ]
  },
  {
   "cell_type": "code",
   "execution_count": 19,
   "id": "5c91649e",
   "metadata": {},
   "outputs": [
    {
     "data": {
      "image/png": "[encoded data removed]",
      "text/plain": [
       "<Figure size 576x144 with 8 Axes>"
      ]
     },
     "metadata": {},
     "output_type": "display_data"
    }
   ],
   "source": [
    "plt.figure(figsize=(8, 2))\n",
    "for i in range(8):\n",
    "    plt.subplot(1, 8, i+1)\n",
    "    plt.imshow(d[i], interpolation='nearest', cmap=plt.cm.bone_r)\n",
    "    plt.grid(False); plt.xticks([]); plt.yticks([])\n",
    "    plt.title(\"image{}\".format(i+1))\n",
    "plt.suptitle(\"숫자 0과 1 이미지\")\n",
    "plt.tight_layout()\n",
    "plt.show()"
   ]
  },
  {
   "cell_type": "code",
   "execution_count": null,
   "id": "2c94e2c8",
   "metadata": {},
   "outputs": [],
   "source": []
  }
 ],
 "metadata": {
  "kernelspec": {
   "display_name": "Python 3",
   "language": "python",
   "name": "python3"
  },
  "language_info": {
   "codemirror_mode": {
    "name": "ipython",
    "version": 3
   },
   "file_extension": ".py",
   "mimetype": "text/x-python",
   "name": "python",
   "nbconvert_exporter": "python",
   "pygments_lexer": "ipython3",
   "version": "3.8.8"
  }
 },
 "nbformat": 4,
 "nbformat_minor": 5
}
